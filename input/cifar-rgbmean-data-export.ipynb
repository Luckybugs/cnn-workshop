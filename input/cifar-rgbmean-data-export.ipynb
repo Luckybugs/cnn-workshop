{
 "cells": [
  {
   "cell_type": "code",
   "execution_count": 1,
   "metadata": {
    "collapsed": false
   },
   "outputs": [
    {
     "name": "stderr",
     "output_type": "stream",
     "text": [
      "Using TensorFlow backend.\n"
     ]
    }
   ],
   "source": [
    "import numpy as np\n",
    "import progressbar \n",
    "import random \n",
    "import os\n",
    "import cv2\n",
    "\n",
    "from sklearn.preprocessing import LabelEncoder\n",
    "from sklearn.preprocessing import LabelBinarizer\n",
    "\n",
    "from keras.applications import VGG16\n",
    "from keras.applications import imagenet_utils\n",
    "from keras.preprocessing.image import img_to_array\n",
    "from keras.datasets import cifar10\n",
    "\n",
    "\n",
    "import matplotlib.pyplot as plt\n",
    "%matplotlib inline\n",
    "\n",
    "from helpers import HDF5DatasetWriter\n",
    "from helpers import Utils"
   ]
  },
  {
   "cell_type": "code",
   "execution_count": 14,
   "metadata": {
    "collapsed": true
   },
   "outputs": [],
   "source": [
    "output_path_train = \"../input/datasets/cifar_rgbmean_train.hdf5\"\n",
    "output_path_test = \"../input/datasets/cifar_rgbmean_test.hdf5\""
   ]
  },
  {
   "cell_type": "code",
   "execution_count": 7,
   "metadata": {
    "collapsed": true
   },
   "outputs": [],
   "source": [
    "(x_train, y_train), (x_test, y_test) = cifar10.load_data()"
   ]
  },
  {
   "cell_type": "code",
   "execution_count": 12,
   "metadata": {
    "collapsed": true
   },
   "outputs": [],
   "source": [
    "def export_rgbmean_data(x, y, output_path, batch_size, buffer_size):\n",
    "    dataset = HDF5DatasetWriter((x.shape[0], 32, 32, 3), (y.shape[0], 10), output_path, bufSize = buffer_size)\n",
    "    \n",
    "    lb = LabelBinarizer()\n",
    "    y = lb.fit_transform(y)\n",
    "    \n",
    "    widgets = [\"Exporting Data: \", progressbar.Percentage(), \" \", progressbar.Bar(), \" \", progressbar.ETA()]\n",
    "    pbar = progressbar.ProgressBar(maxval=x.shape[0], widgets=widgets).start()\n",
    "    \n",
    "    (R, G, B) = ([], [], [])\n",
    "    for (j, image) in enumerate(x):\n",
    "        (b, g, r) = cv2.mean(image)[:3]\n",
    "        R.append(r)\n",
    "        G.append(g)\n",
    "        B.append(b)\n",
    "    RGBMean = {\"R\": np.mean(R), \"G\": np.mean(G), \"B\": np.mean(B)}\n",
    "    \n",
    "    for i in np.arange(0, x.shape[0], batch_size):\n",
    "        batchData = x[i:i + batch_size]\n",
    "        batchLabels = y[i:i + batch_size]\n",
    "        images = []\n",
    "        for (j, image) in enumerate(batchData):\n",
    "            (B, G, R) = cv2.split(image.astype(\"float32\"))\n",
    "            R -= RGBMean[\"R\"]\n",
    "            G -= RGBMean[\"G\"]\n",
    "            B -= RGBMean[\"B\"]\n",
    "            image = cv2.merge([B, G, R])\n",
    "            image = img_to_array(image)\n",
    "            image = np.expand_dims(image, axis=0)\n",
    "            image = imagenet_utils.preprocess_input(image)\n",
    "            images.append(image)\n",
    "        images = np.vstack(images)\n",
    "        dataset.add(images, batchLabels)\n",
    "        pbar.update(i)\n",
    "    dataset.close()\n",
    "    pbar.finish()"
   ]
  },
  {
   "cell_type": "code",
   "execution_count": 13,
   "metadata": {
    "collapsed": false
   },
   "outputs": [
    {
     "name": "stderr",
     "output_type": "stream",
     "text": [
      "Exporting Data: 100% |##########################################| Time: 0:00:08\n"
     ]
    }
   ],
   "source": [
    "export_rgbmean_data(x_train, y_train, output_path_train, 32, 1000)"
   ]
  },
  {
   "cell_type": "code",
   "execution_count": 15,
   "metadata": {
    "collapsed": false
   },
   "outputs": [
    {
     "name": "stderr",
     "output_type": "stream",
     "text": [
      "Exporting Data: 100% |##########################################| Time: 0:00:01\n"
     ]
    }
   ],
   "source": [
    "export_rgbmean_data(x_test, y_test, output_path_test, 32, 1000)"
   ]
  },
  {
   "cell_type": "code",
   "execution_count": null,
   "metadata": {
    "collapsed": true
   },
   "outputs": [],
   "source": []
  }
 ],
 "metadata": {
  "anaconda-cloud": {},
  "kernelspec": {
   "display_name": "Python [default]",
   "language": "python",
   "name": "python3"
  },
  "language_info": {
   "codemirror_mode": {
    "name": "ipython",
    "version": 3
   },
   "file_extension": ".py",
   "mimetype": "text/x-python",
   "name": "python",
   "nbconvert_exporter": "python",
   "pygments_lexer": "ipython3",
   "version": "3.5.2"
  }
 },
 "nbformat": 4,
 "nbformat_minor": 1
}
